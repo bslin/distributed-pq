{
 "cells": [
  {
   "cell_type": "code",
   "execution_count": 1,
   "metadata": {},
   "outputs": [],
   "source": [
    "%matplotlib inline\n",
    "import matplotlib.pyplot as plt"
   ]
  },
  {
   "cell_type": "code",
   "execution_count": 2,
   "metadata": {},
   "outputs": [
    {
     "name": "stdout",
     "output_type": "stream",
     "text": [
      "PQ: BasePriorityQueue(nqueues:20, lag: 10000, add:1, pop:2); Average: 14.833883388338833; Median: 9\n"
     ]
    },
    {
     "data": {
      "text/plain": [
       "(array([1.14980442e-01, 7.76475163e-02, 2.94439382e-02, 4.69612179e-02,\n",
       "        4.00040004e-02, 1.50946772e-02, 2.74561618e-02, 1.23614846e-02,\n",
       "        2.25488387e-02, 2.24867207e-02, 1.08085343e-02, 2.15549505e-02,\n",
       "        1.09327703e-02, 1.93808201e-02, 1.52189132e-02, 7.08145349e-03,\n",
       "        1.38523169e-02, 5.90121124e-03, 1.02494722e-02, 1.16781865e-02,\n",
       "        3.85131681e-03, 9.25558394e-03, 8.82075785e-03, 3.85131681e-03,\n",
       "        7.88898766e-03, 3.04378264e-03, 6.21180130e-03, 5.03155906e-03,\n",
       "        2.60895655e-03, 4.09978886e-03, 2.36048450e-03, 3.47860873e-03,\n",
       "        3.29225469e-03, 1.86354039e-03, 2.67107456e-03, 1.11812423e-03,\n",
       "        2.29836648e-03, 1.86354039e-03, 1.05600622e-03, 9.31770196e-04,\n",
       "        9.93888209e-04, 4.96944104e-04, 9.93888209e-04, 4.34826091e-04,\n",
       "        6.83298143e-04, 8.07534170e-04, 4.96944104e-04, 3.72708078e-04,\n",
       "        3.72708078e-04, 5.59062117e-04, 2.48472052e-04, 6.21180130e-05,\n",
       "        2.48472052e-04, 4.34826091e-04, 3.72708078e-04, 4.34826091e-04,\n",
       "        1.86354039e-04, 6.21180130e-05, 0.00000000e+00, 1.86354039e-04,\n",
       "        6.21180130e-05, 0.00000000e+00, 1.24236026e-04, 1.24236026e-04,\n",
       "        0.00000000e+00, 1.24236026e-04, 0.00000000e+00, 0.00000000e+00,\n",
       "        0.00000000e+00, 0.00000000e+00, 1.24236026e-04, 6.21180130e-05,\n",
       "        6.21180130e-05, 1.24236026e-04, 6.21180130e-05, 0.00000000e+00,\n",
       "        0.00000000e+00, 0.00000000e+00, 6.21180130e-05, 0.00000000e+00,\n",
       "        0.00000000e+00, 0.00000000e+00, 0.00000000e+00, 0.00000000e+00,\n",
       "        6.21180130e-05, 6.21180130e-05, 6.21180130e-05, 0.00000000e+00,\n",
       "        0.00000000e+00, 0.00000000e+00, 0.00000000e+00, 0.00000000e+00,\n",
       "        1.24236026e-04, 6.21180130e-05, 6.21180130e-05, 0.00000000e+00,\n",
       "        0.00000000e+00, 0.00000000e+00, 0.00000000e+00, 6.21180130e-05]),\n",
       " array([  0.  ,   1.61,   3.22,   4.83,   6.44,   8.05,   9.66,  11.27,\n",
       "         12.88,  14.49,  16.1 ,  17.71,  19.32,  20.93,  22.54,  24.15,\n",
       "         25.76,  27.37,  28.98,  30.59,  32.2 ,  33.81,  35.42,  37.03,\n",
       "         38.64,  40.25,  41.86,  43.47,  45.08,  46.69,  48.3 ,  49.91,\n",
       "         51.52,  53.13,  54.74,  56.35,  57.96,  59.57,  61.18,  62.79,\n",
       "         64.4 ,  66.01,  67.62,  69.23,  70.84,  72.45,  74.06,  75.67,\n",
       "         77.28,  78.89,  80.5 ,  82.11,  83.72,  85.33,  86.94,  88.55,\n",
       "         90.16,  91.77,  93.38,  94.99,  96.6 ,  98.21,  99.82, 101.43,\n",
       "        103.04, 104.65, 106.26, 107.87, 109.48, 111.09, 112.7 , 114.31,\n",
       "        115.92, 117.53, 119.14, 120.75, 122.36, 123.97, 125.58, 127.19,\n",
       "        128.8 , 130.41, 132.02, 133.63, 135.24, 136.85, 138.46, 140.07,\n",
       "        141.68, 143.29, 144.9 , 146.51, 148.12, 149.73, 151.34, 152.95,\n",
       "        154.56, 156.17, 157.78, 159.39, 161.  ]),\n",
       " <a list of 100 Patch objects>)"
      ]
     },
     "execution_count": 2,
     "metadata": {},
     "output_type": "execute_result"
    },
    {
     "data": {
      "image/png": "[encoded data removed]",
      "text/plain": [
       "<Figure size 720x360 with 1 Axes>"
      ]
     },
     "metadata": {
      "needs_background": "light"
     },
     "output_type": "display_data"
    }
   ],
   "source": [
    "import statistics\n",
    "import random\n",
    "from testrunner import TestRunner\n",
    "from distributed_pq import BasePriorityQueue\n",
    "random.seed(5)\n",
    "\n",
    "consumer_lag = 10000\n",
    "num_iterations = 10000\n",
    "\n",
    "pq1 = BasePriorityQueue(num_queues=20, num_queues_lb_add=1, num_queues_lb_pop=2)\n",
    "\n",
    "out1 = TestRunner(queue=pq1, consumer_lag=consumer_lag, num_iterations=num_iterations).run()\n",
    "\n",
    "plt.rcParams['figure.figsize'] = [10, 5]\n",
    "plt.hist(out1, 100, density=True)"
   ]
  },
  {
   "cell_type": "code",
   "execution_count": null,
   "metadata": {},
   "outputs": [
    {
     "name": "stdout",
     "output_type": "stream",
     "text": [
      "1\n",
      "PQ: BasePriorityQueue(nqueues:20, lag: 1, add:1, pop:1); Average: 0.47014701470147013; Median: 0\n",
      "PQ: BasePriorityQueue(nqueues:20, lag: 1, add:2, pop:1); Average: 0.4957495749574958; Median: 0\n",
      "PQ: BasePriorityQueue(nqueues:20, lag: 1, add:1, pop:2); Average: 0.3092309230923092; Median: 0\n",
      "10001\n",
      "PQ: BasePriorityQueue(nqueues:20, lag: 10001, add:1, pop:1); Average: 150.2966296629663; Median: 58\n"
     ]
    }
   ],
   "source": [
    "import statistics\n",
    "import random\n",
    "from testrunner import TestRunner\n",
    "from distributed_pq import BasePriorityQueue\n",
    "random.seed(5)\n",
    "\n",
    "x_list = []\n",
    "\n",
    "average1_list = []\n",
    "median1_list = []\n",
    "\n",
    "average2_list = []\n",
    "median2_list = []\n",
    "\n",
    "average3_list = []\n",
    "median3_list = []\n",
    "\n",
    "for x in [x for x in range(1, 100000, 10000)]:\n",
    "    print(x)\n",
    "    num_queues = 20\n",
    "    consumer_lag = x # 10000\n",
    "    num_iterations = 10000\n",
    "    \n",
    "    pq1 = BasePriorityQueue(num_queues=num_queues, num_queues_lb_add=1, num_queues_lb_pop=1)\n",
    "    out1 = TestRunner(queue=pq1, consumer_lag=consumer_lag, num_iterations=num_iterations).run()\n",
    "    \n",
    "    pq2 = BasePriorityQueue(num_queues=num_queues, num_queues_lb_add=2, num_queues_lb_pop=1)\n",
    "    out2 = TestRunner(queue=pq2, consumer_lag=consumer_lag, num_iterations=num_iterations).run()\n",
    "    \n",
    "    pq3 = BasePriorityQueue(num_queues=num_queues, num_queues_lb_add=1, num_queues_lb_pop=2)\n",
    "    out3 = TestRunner(queue=pq3, consumer_lag=consumer_lag, num_iterations=num_iterations).run()\n",
    "    \n",
    "    x_list.append(x)\n",
    "    average1_list.append(statistics.mean(out1))\n",
    "    median1_list.append(statistics.median(out1))\n",
    "    average2_list.append(statistics.mean(out2))\n",
    "    median2_list.append(statistics.median(out2))\n",
    "    average3_list.append(statistics.mean(out3))\n",
    "    median3_list.append(statistics.median(out3))\n",
    "    "
   ]
  },
  {
   "cell_type": "code",
   "execution_count": null,
   "metadata": {},
   "outputs": [],
   "source": [
    "plt.plot(x_list, average1_list, label=\"baseline\")\n",
    "plt.plot(x_list, average2_list, label=\"best of 2 queues when adding\")\n",
    "plt.plot(x_list, average3_list, label=\"best of 2 queues when popping\")\n",
    "plt.legend()\n",
    "plt.title(\"Distributed Priority Queue Performance\")\n",
    "plt.xlabel(\"Consumer Lag (Number of elements in the Priority Queue)\")\n",
    "plt.ylabel(\"Average Index of Popped Element\")\n",
    "plt.rcParams['figure.figsize'] = [10, 5]\n",
    "plt.show()"
   ]
  },
  {
   "cell_type": "code",
   "execution_count": null,
   "metadata": {},
   "outputs": [],
   "source": [
    "import statistics\n",
    "import random\n",
    "from testrunner import TestRunner\n",
    "from distributed_pq import BasePriorityQueue\n",
    "random.seed(5)\n",
    "\n",
    "x_list = []\n",
    "\n",
    "average1_list = []\n",
    "median1_list = []\n",
    "\n",
    "average2_list = []\n",
    "median2_list = []\n",
    "\n",
    "for x in range(1, 100, 5):\n",
    "    print(x)\n",
    "    num_queues = 100\n",
    "    consumer_lag = 10000\n",
    "    num_iterations = 10000\n",
    "    \n",
    "    pq1 = BasePriorityQueue(num_queues=num_queues, num_queues_lb_add=x, num_queues_lb_pop=1)\n",
    "    out1 = TestRunner(queue=pq1, consumer_lag=consumer_lag, num_iterations=num_iterations).run()\n",
    "    \n",
    "    pq2 = BasePriorityQueue(num_queues=num_queues, num_queues_lb_add=1, num_queues_lb_pop=x)\n",
    "    out2 = TestRunner(queue=pq2, consumer_lag=consumer_lag, num_iterations=num_iterations).run()\n",
    "    \n",
    "    x_list.append(x)\n",
    "    average1_list.append(statistics.mean(out1))\n",
    "    median1_list.append(statistics.median(out1))\n",
    "    average2_list.append(statistics.mean(out2))\n",
    "    median2_list.append(statistics.median(out2))\n",
    "    "
   ]
  },
  {
   "cell_type": "code",
   "execution_count": null,
   "metadata": {},
   "outputs": [],
   "source": [
    "plt.plot(x_list, average1_list, label=\"best of x queues when adding\")\n",
    "plt.plot(x_list, average2_list, label=\"best of x queues when popping\")\n",
    "plt.legend()\n",
    "plt.title(\"Distributed Priority Queue Load Balancing Performance\")\n",
    "plt.xlabel(\"Number of queues to query\")\n",
    "plt.ylabel(\"Average Index of Popped Element\")\n",
    "plt.rcParams['figure.figsize'] = [10, 5]\n",
    "plt.show()"
   ]
  },
  {
   "cell_type": "code",
   "execution_count": null,
   "metadata": {},
   "outputs": [],
   "source": []
  }
 ],
 "metadata": {
  "kernelspec": {
   "display_name": "Python 3",
   "language": "python",
   "name": "python3"
  },
  "language_info": {
   "codemirror_mode": {
    "name": "ipython",
    "version": 3
   },
   "file_extension": ".py",
   "mimetype": "text/x-python",
   "name": "python",
   "nbconvert_exporter": "python",
   "pygments_lexer": "ipython3",
   "version": "3.7.5"
  }
 },
 "nbformat": 4,
 "nbformat_minor": 4
}
